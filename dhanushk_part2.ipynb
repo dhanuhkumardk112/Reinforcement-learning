{
  "nbformat": 4,
  "nbformat_minor": 0,
  "metadata": {
    "colab": {
      "provenance": [],
      "include_colab_link": true
    },
    "kernelspec": {
      "name": "python3",
      "display_name": "Python 3"
    },
    "language_info": {
      "name": "python"
    }
  },
  "cells": [
    {
      "cell_type": "markdown",
      "metadata": {
        "id": "view-in-github",
        "colab_type": "text"
      },
      "source": [
        "<a href=\"https://colab.research.google.com/github/dhanuhkumardk112/Reinforcement-learning/blob/main/dhanushk_part2.ipynb\" target=\"_parent\"><img src=\"https://colab.research.google.com/assets/colab-badge.svg\" alt=\"Open In Colab\"/></a>"
      ]
    },
    {
      "cell_type": "code",
      "source": [
        "!pip3 install gymnasium matplotlib numpy"
      ],
      "metadata": {
        "id": "0DRyT4XZYT9P",
        "colab": {
          "base_uri": "https://localhost:8080/"
        },
        "outputId": "5ced3033-54fd-440b-bde4-438604c2cf2d"
      },
      "execution_count": 1,
      "outputs": [
        {
          "output_type": "stream",
          "name": "stdout",
          "text": [
            "Looking in indexes: https://pypi.org/simple, https://us-python.pkg.dev/colab-wheels/public/simple/\n",
            "Collecting gymnasium\n",
            "  Downloading gymnasium-0.27.1-py3-none-any.whl (883 kB)\n",
            "\u001b[2K     \u001b[90m━━━━━━━━━━━━━━━━━━━━━━━━━━━━━━━━━━━━━━━\u001b[0m \u001b[32m883.7/883.7 KB\u001b[0m \u001b[31m8.1 MB/s\u001b[0m eta \u001b[36m0:00:00\u001b[0m\n",
            "\u001b[?25hRequirement already satisfied: matplotlib in /usr/local/lib/python3.8/dist-packages (3.5.3)\n",
            "Requirement already satisfied: numpy in /usr/local/lib/python3.8/dist-packages (1.22.4)\n",
            "Requirement already satisfied: importlib-metadata>=4.8.0 in /usr/local/lib/python3.8/dist-packages (from gymnasium) (6.0.0)\n",
            "Requirement already satisfied: typing-extensions>=4.3.0 in /usr/local/lib/python3.8/dist-packages (from gymnasium) (4.5.0)\n",
            "Collecting gymnasium-notices>=0.0.1\n",
            "  Downloading gymnasium_notices-0.0.1-py3-none-any.whl (2.8 kB)\n",
            "Requirement already satisfied: cloudpickle>=1.2.0 in /usr/local/lib/python3.8/dist-packages (from gymnasium) (2.2.1)\n",
            "Collecting jax-jumpy>=0.2.0\n",
            "  Downloading jax_jumpy-0.2.0-py3-none-any.whl (11 kB)\n",
            "Requirement already satisfied: pillow>=6.2.0 in /usr/local/lib/python3.8/dist-packages (from matplotlib) (8.4.0)\n",
            "Requirement already satisfied: python-dateutil>=2.7 in /usr/local/lib/python3.8/dist-packages (from matplotlib) (2.8.2)\n",
            "Requirement already satisfied: kiwisolver>=1.0.1 in /usr/local/lib/python3.8/dist-packages (from matplotlib) (1.4.4)\n",
            "Requirement already satisfied: fonttools>=4.22.0 in /usr/local/lib/python3.8/dist-packages (from matplotlib) (4.38.0)\n",
            "Requirement already satisfied: cycler>=0.10 in /usr/local/lib/python3.8/dist-packages (from matplotlib) (0.11.0)\n",
            "Requirement already satisfied: packaging>=20.0 in /usr/local/lib/python3.8/dist-packages (from matplotlib) (23.0)\n",
            "Requirement already satisfied: pyparsing>=2.2.1 in /usr/local/lib/python3.8/dist-packages (from matplotlib) (3.0.9)\n",
            "Requirement already satisfied: zipp>=0.5 in /usr/local/lib/python3.8/dist-packages (from importlib-metadata>=4.8.0->gymnasium) (3.15.0)\n",
            "Requirement already satisfied: six>=1.5 in /usr/local/lib/python3.8/dist-packages (from python-dateutil>=2.7->matplotlib) (1.15.0)\n",
            "Installing collected packages: gymnasium-notices, jax-jumpy, gymnasium\n",
            "Successfully installed gymnasium-0.27.1 gymnasium-notices-0.0.1 jax-jumpy-0.2.0\n"
          ]
        }
      ]
    },
    {
      "cell_type": "code",
      "execution_count": 2,
      "metadata": {
        "id": "S_-NchtITmfr"
      },
      "outputs": [],
      "source": [
        "from google.colab import widgets\n",
        "import gymnasium as gym\n",
        "import copy\n",
        "from gymnasium import spaces\n",
        "import matplotlib.pyplot as plt\n",
        "import numpy as np\n",
        "import time\n",
        "\n",
        "\n",
        "class DeterministicEnv(gym.Env):\n",
        "    metadata = {'render.modes': ['human']}\n",
        "\n",
        "    def __init__(self):\n",
        "        # Define action and observation space\n",
        "        self.action_space = spaces.Discrete(4)\n",
        "        self.observation_space = spaces.Discrete(12)\n",
        "\n",
        "        # Define state transition matrix\n",
        "        self.transition_matrix = np.array([\n",
        "            [1, 0, 0, 0],\n",
        "            [0, 1, 0, 0],\n",
        "            [0, 0, 1, 0],\n",
        "            [0, 0, 0, 1],\n",
        "            [0, 1, 0, 0],\n",
        "            [0, 0, 1, 0],\n",
        "            [0, 0, 0, 1],\n",
        "            [1, 0, 0, 0],\n",
        "            [0, 1, 0, 0],\n",
        "            [0, 0, 1, 0],\n",
        "            [0, 0, 0, 1],\n",
        "            [0, 0, 0, 1]])\n",
        "\n",
        "        # Define reward matrix\n",
        "        self.rewards = np.array([-50,100,150,300])\n",
        "        \n",
        "\n",
        "        self.current_state = None\n",
        "        self.time_step = None\n",
        "        self.reward = None\n",
        "        self.done = None\n",
        "\n",
        "    def step(self, action):\n",
        "        assert self.action_space.contains(action)\n",
        "        self.current_state = int(self.current_state)\n",
        "        action = int(action)\n",
        "\n",
        "        # Update state\n",
        "        # print(self.current_state)\n",
        "        # print(action)\n",
        "        # print(\"----------------------------------\")\n",
        "        # print(self.transition_matrix[self.current_state, action])\n",
        "        self.current_state = np.argmax(self.transition_matrix[self.current_state, action])\n",
        "        # print(self.current_state)\n",
        "\n",
        "        rewards = np.array([-50,100,150,300])\n",
        "\n",
        "        # Get reward\n",
        "        for i in range(4):\n",
        "          self.reward = np.random.choice(rewards)\n",
        "\n",
        "        # Increment time step\n",
        "        self.time_step += 1\n",
        "\n",
        "        # Define termination criteria\n",
        "        self.done = self.time_step >= 10\n",
        "\n",
        "        return self.current_state, self.reward, self.done, {}\n",
        "\n",
        "    def reset(self):\n",
        "        self.current_state = np.random.randint(0, 12)\n",
        "        self.time_step = 0\n",
        "        self.reward = 0\n",
        "        self.done = False\n",
        "        return self.current_state\n",
        "\n",
        "    def render(self, mode='human'):\n",
        "        # Define gridworld\n",
        "        gridworld = np.zeros((3, 4))\n",
        "        for i in range(3):\n",
        "            for j in range(4):\n",
        "                gridworld[i, j] = i*4 + j\n",
        "\n",
        "        # Set current position\n",
        "        x, y = self.current_state // 4, self.current_state % 4\n",
        "        gridworld[x, y] = -1\n",
        "\n",
        "        # Set rewards\n",
        "        for i, reward in enumerate(self.rewards):\n",
        "            x, y = i // 4, i % 4\n",
        "            gridworld[x, y] = reward\n",
        "\n",
        "        # Define color map\n",
        "        cmap = plt.cm.get_cmap('viridis', len(self.rewards) + 1)\n",
        "        cmap.set_under(color='black')\n",
        "\n",
        "        # Plot gridworld\n",
        "        plt.imshow(gridworld, cmap=cmap, vmin=-1, vmax=len(self.rewards))\n",
        "        plt.xticks([])\n",
        "        plt.yticks([])\n",
        "        plt.colorbar(ticks=list(range(len(self.rewards) + 1)))\n",
        "        plt.show()"
      ]
    },
    {
      "cell_type": "markdown",
      "source": [
        "# Deterministic Environment"
      ],
      "metadata": {
        "id": "zYK2tFq8YKrO"
      }
    },
    {
      "cell_type": "code",
      "source": [
        "import gym\n",
        "\n",
        "# create an instance of the deterministic environment\n",
        "env = DeterministicEnv()\n",
        "\n",
        "# reset the environment to get the initial state\n",
        "state = env.reset()\n",
        "\n",
        "# run the environment for 10 timesteps with random actions\n",
        "for i in range(10):\n",
        "    # choose a random action from the action space\n",
        "    action = env.action_space.sample()\n",
        "    \n",
        "    # take a step in the environment with the chosen action\n",
        "    next_state, reward, done, info = env.step(action)\n",
        "    \n",
        "    # visualize the current state of the environment\n",
        "    env.render()\n",
        "    \n",
        "    # break the loop if the environment is done\n",
        "    if done:\n",
        "        break\n",
        "\n",
        "# close the environment\n",
        "env.close()\n"
      ],
      "metadata": {
        "colab": {
          "base_uri": "https://localhost:8080/",
          "height": 1000
        },
        "id": "sQqzmEGWTr5r",
        "outputId": "98d66648-f9e6-47db-a989-7773c85b6e58"
      },
      "execution_count": 3,
      "outputs": [
        {
          "output_type": "display_data",
          "data": {
            "text/plain": [
              "<Figure size 432x288 with 2 Axes>"
            ],
            "image/png": "[encoded data removed]"
          },
          "metadata": {
            "needs_background": "light"
          }
        },
        {
          "output_type": "display_data",
          "data": {
            "text/plain": [
              "<Figure size 432x288 with 2 Axes>"
            ],
            "image/png": "[encoded data removed]"
          },
          "metadata": {
            "needs_background": "light"
          }
        },
        {
          "output_type": "display_data",
          "data": {
            "text/plain": [
              "<Figure size 432x288 with 2 Axes>"
            ],
            "image/png": "[encoded data removed]"
          },
          "metadata": {
            "needs_background": "light"
          }
        },
        {
          "output_type": "display_data",
          "data": {
            "text/plain": [
              "<Figure size 432x288 with 2 Axes>"
            ],
            "image/png": "[encoded data removed]"
          },
          "metadata": {
            "needs_background": "light"
          }
        },
        {
          "output_type": "display_data",
          "data": {
            "text/plain": [
              "<Figure size 432x288 with 2 Axes>"
            ],
            "image/png": "[encoded data removed]"
          },
          "metadata": {
            "needs_background": "light"
          }
        },
        {
          "output_type": "display_data",
          "data": {
            "text/plain": [
              "<Figure size 432x288 with 2 Axes>"
            ],
            "image/png": "[encoded data removed]"
          },
          "metadata": {
            "needs_background": "light"
          }
        },
        {
          "output_type": "display_data",
          "data": {
            "text/plain": [
              "<Figure size 432x288 with 2 Axes>"
            ],
            "image/png": "[encoded data removed]"
          },
          "metadata": {
            "needs_background": "light"
          }
        },
        {
          "output_type": "display_data",
          "data": {
            "text/plain": [
              "<Figure size 432x288 with 2 Axes>"
            ],
            "image/png": "[encoded data removed]"
          },
          "metadata": {
            "needs_background": "light"
          }
        },
        {
          "output_type": "display_data",
          "data": {
            "text/plain": [
              "<Figure size 432x288 with 2 Axes>"
            ],
            "image/png": "[encoded data removed]"
          },
          "metadata": {
            "needs_background": "light"
          }
        },
        {
          "output_type": "display_data",
          "data": {
            "text/plain": [
              "<Figure size 432x288 with 2 Axes>"
            ],
            "image/png": "[encoded data removed]"
          },
          "metadata": {
            "needs_background": "light"
          }
        }
      ]
    },
    {
      "cell_type": "markdown",
      "source": [
        "# Stochastic Environment"
      ],
      "metadata": {
        "id": "ZYfZMtwiYHeQ"
      }
    },
    {
      "cell_type": "code",
      "source": [
        "import random\n",
        "import gym\n",
        "from gym import spaces\n",
        "import numpy as np\n",
        "\n",
        "\n",
        "class StochasticEnv(gym.Env):\n",
        "    metadata = {'render.modes': ['human']}\n",
        "\n",
        "    def __init__(self):\n",
        "        # Define action and observation space\n",
        "        self.action_space = spaces.Discrete(4)\n",
        "        self.observation_space = spaces.Discrete(12)\n",
        "\n",
        "        # Define state transition probability matrix\n",
        "        self.transition_probs = np.zeros((12, 4, 12))\n",
        "        for i in range(12):\n",
        "            for j in range(4):\n",
        "                self.transition_probs[i, j, (i+j+1)%12] = 1\n",
        "\n",
        "        # Define reward matrix\n",
        "        self.rewards = np.array([\n",
        "            [1, 0, 0, 0],\n",
        "            [0, 1, 0, 0],\n",
        "            [0, 0, 1, 0],\n",
        "            [0, 0, 0, 1],\n",
        "            [0, 1, 0, 0],\n",
        "            [0, 0, 1, 0],\n",
        "            [0, 0, 0, 1],\n",
        "            [1, 0, 0, 0],\n",
        "            [0, 1, 0, 0],\n",
        "            [0, 0, 1, 0],\n",
        "            [0, 0, 0, 1],\n",
        "            [0, 0, 0, 1]])\n",
        "\n",
        "        self.current_state = None\n",
        "        self.time_step = None\n",
        "        self.reward = None\n",
        "        self.done = None\n",
        "\n",
        "    def step(self, action):\n",
        "        assert self.action_space.contains(action)\n",
        "        self.current_state = int(self.current_state)\n",
        "        action = int(action)\n",
        "\n",
        "        # Define stochasticity - action has a 25% chance of leading to a different state\n",
        "        if random.random() < 0.25:\n",
        "            action = random.choice([i for i in range(4) if i != action])\n",
        "\n",
        "        # Update state\n",
        "        self.current_state = np.random.choice(\n",
        "            np.arange(12), p=self.transition_probs[self.current_state, action]\n",
        "        )\n",
        "\n",
        "        # Get reward\n",
        "        self.reward = self.rewards[self.current_state, action]\n",
        "\n",
        "        # Increment time step\n",
        "        self.time_step += 1\n",
        "\n",
        "        # Define termination criteria\n",
        "        self.done = self.time_step >= 10\n",
        "\n",
        "        return self.current_state, self.reward, self.done, {}\n",
        "\n",
        "    def reset(self):\n",
        "        self.current_state = np.random.randint(0, 12)\n",
        "        self.time_step = 0\n",
        "        self.reward = 0\n",
        "        self.done = False\n",
        "        return self.current_state\n",
        "\n",
        "    def render(self, mode='human'):\n",
        "        # Define gridworld\n",
        "        gridworld = np.zeros((3, 4))\n",
        "        for i in range(3):\n",
        "            for j in range(4):\n",
        "                gridworld[i, j] = i*4 + j\n",
        "\n",
        "        # Set current position\n",
        "        x, y = self.current_state // 4, self.current_state % 4\n",
        "        gridworld[x, y] = -1\n",
        "\n",
        "        # Set rewards\n",
        "        for i, reward in enumerate(self.rewards):\n",
        "            x, y = i // 4, i % 4\n",
        "            if reward[action] > 0:\n",
        "                gridworld[x, y] = reward[action] * 10\n",
        "\n",
        "        # Define color map\n",
        "        cmap = plt.cm.get_cmap('YlGn')\n",
        "        cmap.set_under(color='white')\n",
        "\n",
        "        # Plot gridworld\n",
        "        plt.imshow(gridworld, cmap=cmap, vmin=-1, vmax=10)\n",
        "        plt.xticks([])\n",
        "        plt.yticks([])\n",
        "        plt.colorbar(ticks=[0, 10])\n",
        "        plt.show()    "
      ],
      "metadata": {
        "id": "vDJp_z4YTvle"
      },
      "execution_count": 4,
      "outputs": []
    },
    {
      "cell_type": "code",
      "source": [
        "import gym\n",
        "import numpy as np\n",
        "\n",
        "env = StochasticEnv()\n",
        "observation = env.reset()\n",
        "for t in range(10):\n",
        "    action = np.random.randint(0, 4)\n",
        "    observation, reward, done, info = env.step(action)\n",
        "    env.render()\n",
        "    print(f\"t: {t}, observation: {observation}, reward: {reward}, done: {done}, info: {info}\")\n",
        "    if done:\n",
        "        print(\"Episode finished after {} timesteps\".format(t+1))\n",
        "        break\n",
        "env.close()"
      ],
      "metadata": {
        "id": "jImIyk1zXsMa",
        "colab": {
          "base_uri": "https://localhost:8080/",
          "height": 1000
        },
        "outputId": "44f49450-45aa-4692-fad5-fa04ce66f4e0"
      },
      "execution_count": 5,
      "outputs": [
        {
          "output_type": "stream",
          "name": "stderr",
          "text": [
            "<ipython-input-4-10f83281e8a0>:92: MatplotlibDeprecationWarning: You are modifying the state of a globally registered colormap. This has been deprecated since 3.3 and in 3.6, you will not be able to modify a registered colormap in-place. To remove this warning, you can make a copy of the colormap first. cmap = mpl.cm.get_cmap(\"YlGn\").copy()\n",
            "  cmap.set_under(color='white')\n"
          ]
        },
        {
          "output_type": "display_data",
          "data": {
            "text/plain": [
              "<Figure size 432x288 with 2 Axes>"
            ],
            "image/png": "[encoded data removed]"
          },
          "metadata": {
            "needs_background": "light"
          }
        },
        {
          "output_type": "stream",
          "name": "stdout",
          "text": [
            "t: 0, observation: 8, reward: 0, done: False, info: {}\n"
          ]
        },
        {
          "output_type": "display_data",
          "data": {
            "text/plain": [
              "<Figure size 432x288 with 2 Axes>"
            ],
            "image/png": "[encoded data removed]"
          },
          "metadata": {
            "needs_background": "light"
          }
        },
        {
          "output_type": "stream",
          "name": "stdout",
          "text": [
            "t: 1, observation: 0, reward: 0, done: False, info: {}\n"
          ]
        },
        {
          "output_type": "display_data",
          "data": {
            "text/plain": [
              "<Figure size 432x288 with 2 Axes>"
            ],
            "image/png": "[encoded data removed]"
          },
          "metadata": {
            "needs_background": "light"
          }
        },
        {
          "output_type": "stream",
          "name": "stdout",
          "text": [
            "t: 2, observation: 1, reward: 0, done: False, info: {}\n"
          ]
        },
        {
          "output_type": "display_data",
          "data": {
            "text/plain": [
              "<Figure size 432x288 with 2 Axes>"
            ],
            "image/png": "[encoded data removed]"
          },
          "metadata": {
            "needs_background": "light"
          }
        },
        {
          "output_type": "stream",
          "name": "stdout",
          "text": [
            "t: 3, observation: 2, reward: 0, done: False, info: {}\n"
          ]
        },
        {
          "output_type": "display_data",
          "data": {
            "text/plain": [
              "<Figure size 432x288 with 2 Axes>"
            ],
            "image/png": "[encoded data removed]"
          },
          "metadata": {
            "needs_background": "light"
          }
        },
        {
          "output_type": "stream",
          "name": "stdout",
          "text": [
            "t: 4, observation: 4, reward: 1, done: False, info: {}\n"
          ]
        },
        {
          "output_type": "display_data",
          "data": {
            "text/plain": [
              "<Figure size 432x288 with 2 Axes>"
            ],
            "image/png": "[encoded data removed]"
          },
          "metadata": {
            "needs_background": "light"
          }
        },
        {
          "output_type": "stream",
          "name": "stdout",
          "text": [
            "t: 5, observation: 5, reward: 0, done: False, info: {}\n"
          ]
        },
        {
          "output_type": "display_data",
          "data": {
            "text/plain": [
              "<Figure size 432x288 with 2 Axes>"
            ],
            "image/png": "[encoded data removed]"
          },
          "metadata": {
            "needs_background": "light"
          }
        },
        {
          "output_type": "stream",
          "name": "stdout",
          "text": [
            "t: 6, observation: 7, reward: 0, done: False, info: {}\n"
          ]
        },
        {
          "output_type": "display_data",
          "data": {
            "text/plain": [
              "<Figure size 432x288 with 2 Axes>"
            ],
            "image/png": "[encoded data removed]"
          },
          "metadata": {
            "needs_background": "light"
          }
        },
        {
          "output_type": "stream",
          "name": "stdout",
          "text": [
            "t: 7, observation: 9, reward: 0, done: False, info: {}\n"
          ]
        },
        {
          "output_type": "display_data",
          "data": {
            "text/plain": [
              "<Figure size 432x288 with 2 Axes>"
            ],
            "image/png": "[encoded data removed]"
          },
          "metadata": {
            "needs_background": "light"
          }
        },
        {
          "output_type": "stream",
          "name": "stdout",
          "text": [
            "t: 8, observation: 0, reward: 0, done: False, info: {}\n"
          ]
        },
        {
          "output_type": "display_data",
          "data": {
            "text/plain": [
              "<Figure size 432x288 with 2 Axes>"
            ],
            "image/png": "[encoded data removed]"
          },
          "metadata": {
            "needs_background": "light"
          }
        },
        {
          "output_type": "stream",
          "name": "stdout",
          "text": [
            "t: 9, observation: 1, reward: 0, done: True, info: {}\n",
            "Episode finished after 10 timesteps\n"
          ]
        }
      ]
    },
    {
      "cell_type": "markdown",
      "source": [
        "#**PART 2**"
      ],
      "metadata": {
        "id": "EwxfNFVL8Sqk"
      }
    },
    {
      "cell_type": "markdown",
      "source": [
        "#Q-Learning Deterministic Env"
      ],
      "metadata": {
        "id": "o7ntyRrGB403"
      }
    },
    {
      "cell_type": "code",
      "source": [
        "import gym\n",
        "import numpy as np\n",
        "import matplotlib.pyplot as plt\n",
        "\n",
        "env = DeterministicEnv()\n",
        "\n",
        "\n",
        "alpha = 0.1\n",
        "gamma = 0.99\n",
        "epsilon = 1\n",
        "num_episodes = 1000\n",
        "\n",
        "\n",
        "Q = np.zeros([env.observation_space.n, env.action_space.n])\n",
        "\n",
        "\n",
        "rewards_per_episode = []\n",
        "steps_per_episode = []\n",
        "\n",
        "\n",
        "for i in range(num_episodes):\n",
        "    \n",
        "    state = env.reset()\n",
        "    done = False\n",
        "    total_reward = 0\n",
        "    step = 0.99\n",
        "\n",
        "    while not done:\n",
        "        \n",
        "        \n",
        "        if np.random.uniform(0, 1) < epsilon:\n",
        "            action = env.action_space.sample()\n",
        "        else:\n",
        "            action = np.argmax(Q[state, :])\n",
        "\n",
        "        \n",
        "        next_state, reward, done, _ = env.step(action)\n",
        "\n",
        "        \n",
        "        Q[state, action] += alpha * (reward + gamma * np.max(Q[next_state, :]) - Q[state, action])\n",
        "\n",
        "        \n",
        "        total_reward += reward\n",
        "        state = next_state\n",
        "\n",
        "  \n",
        "    rewards_per_episode.append(total_reward)\n",
        "    epsilon*=step\n",
        "    steps_per_episode.append(epsilon)\n",
        "\n",
        "\n",
        "plt.plot(rewards_per_episode)\n",
        "plt.xlabel('Episode')\n",
        "plt.ylabel('Reward')\n",
        "plt.title('Q-learning: Reward per Episode')\n",
        "plt.show()\n",
        "\n",
        "\n",
        "plt.plot(steps_per_episode)\n",
        "plt.xlabel('Episode')\n",
        "plt.ylabel('epsilon')\n",
        "plt.title('Q-learning: epsilon per Episode')\n",
        "plt.show()\n",
        "\n"
      ],
      "metadata": {
        "colab": {
          "base_uri": "https://localhost:8080/",
          "height": 573
        },
        "id": "MRsg1-18A4-3",
        "outputId": "e04149cf-28c5-42b8-f38d-7e7f5b6c651e"
      },
      "execution_count": 6,
      "outputs": [
        {
          "output_type": "display_data",
          "data": {
            "text/plain": [
              "<Figure size 432x288 with 1 Axes>"
            ],
            "image/png": "[encoded data removed]"
          },
          "metadata": {
            "needs_background": "light"
          }
        },
        {
          "output_type": "display_data",
          "data": {
            "text/plain": [
              "<Figure size 432x288 with 1 Axes>"
            ],
            "image/png": "[encoded data removed]"
          },
          "metadata": {
            "needs_background": "light"
          }
        }
      ]
    },
    {
      "cell_type": "code",
      "source": [
        "import pickle\n",
        "\n",
        "\n",
        "file_path = 'q_table_deterministic.pickle'\n",
        "\n",
        "with open(file_path, 'wb') as f:\n",
        "    pickle.dump(Q, f)\n"
      ],
      "metadata": {
        "id": "TQXqQ0h8ULAc"
      },
      "execution_count": 7,
      "outputs": []
    },
    {
      "cell_type": "markdown",
      "source": [
        "#Q-Learning Stochastic Env"
      ],
      "metadata": {
        "id": "rY3pAethQAZX"
      }
    },
    {
      "cell_type": "code",
      "source": [
        "import gym\n",
        "import numpy as np\n",
        "import matplotlib.pyplot as plt\n",
        "\n",
        "env = StochasticEnv()\n",
        "\n",
        "alpha = 0.1\n",
        "gamma = 0.99\n",
        "epsilon = 1\n",
        "num_episodes = 1000\n",
        "\n",
        "\n",
        "Q = np.zeros([env.observation_space.n, env.action_space.n])\n",
        "\n",
        "\n",
        "rewards_per_episode = []\n",
        "steps_per_episode = []\n",
        "\n",
        "\n",
        "for i in range(num_episodes):\n",
        "    \n",
        "    state = env.reset()\n",
        "    done = False\n",
        "    total_reward = 0\n",
        "    step = 0.99\n",
        "\n",
        "    while not done:\n",
        "        \n",
        "\n",
        "        \n",
        "        if np.random.uniform(0, 1) < epsilon:\n",
        "            action = env.action_space.sample()\n",
        "        else:\n",
        "            action = np.argmax(Q[state, :])\n",
        "\n",
        "        \n",
        "        next_state, reward, done, _ = env.step(action)\n",
        "\n",
        "        \n",
        "        Q[state, action] += alpha * (reward + gamma * np.max(Q[next_state, :]) - Q[state, action])\n",
        "\n",
        "        \n",
        "        total_reward += reward\n",
        "        state = next_state\n",
        "\n",
        "  \n",
        "    rewards_per_episode.append(total_reward)\n",
        "    epsilon*=step\n",
        "    steps_per_episode.append(epsilon)\n",
        "\n",
        "\n",
        "plt.plot(rewards_per_episode)\n",
        "plt.xlabel('Episode')\n",
        "plt.ylabel('Reward')\n",
        "plt.title('Q-learning: Reward per Episode')\n",
        "plt.show()\n",
        "\n",
        "\n",
        "plt.plot(steps_per_episode)\n",
        "plt.xlabel('Episode')\n",
        "plt.ylabel('epsilon')\n",
        "plt.title('Q-learning: epsilon per Episode')\n",
        "plt.show()\n"
      ],
      "metadata": {
        "colab": {
          "base_uri": "https://localhost:8080/",
          "height": 573
        },
        "id": "cTHabeWDS1uZ",
        "outputId": "4b5b592e-04aa-4ada-bac4-64908634653a"
      },
      "execution_count": 8,
      "outputs": [
        {
          "output_type": "display_data",
          "data": {
            "text/plain": [
              "<Figure size 432x288 with 1 Axes>"
            ],
            "image/png": "[encoded data removed]"
          },
          "metadata": {
            "needs_background": "light"
          }
        },
        {
          "output_type": "display_data",
          "data": {
            "text/plain": [
              "<Figure size 432x288 with 1 Axes>"
            ],
            "image/png": "[encoded data removed]"
          },
          "metadata": {
            "needs_background": "light"
          }
        }
      ]
    },
    {
      "cell_type": "code",
      "source": [
        "Q"
      ],
      "metadata": {
        "colab": {
          "base_uri": "https://localhost:8080/"
        },
        "id": "546hGhEaTMSn",
        "outputId": "392ee787-fb33-4588-d30a-fe8c156b8659"
      },
      "execution_count": 9,
      "outputs": [
        {
          "output_type": "execute_result",
          "data": {
            "text/plain": [
              "array([[ 3.31623948, 27.72837889,  1.23117457,  2.56917287],\n",
              "       [27.65698157,  4.63475751,  4.72404838,  1.24947178],\n",
              "       [ 5.95948311, 28.69695695,  5.13894873,  6.48519408],\n",
              "       [ 2.51152129,  1.17584551, 27.90540075,  2.91685356],\n",
              "       [ 4.54088123, 28.15599452,  3.30175941,  6.63229171],\n",
              "       [27.76629878,  2.20470303,  1.7474939 ,  3.32514282],\n",
              "       [ 6.31821996,  4.17011784, 28.70753222,  4.65074962],\n",
              "       [ 3.05815804,  2.96595242,  1.81910114, 28.79330986],\n",
              "       [27.4286545 ,  2.28783655,  1.91237637,  1.07853871],\n",
              "       [ 3.92654315, 28.09828996,  4.55709576,  6.51210449],\n",
              "       [27.95155472,  1.1856953 ,  1.67027124,  1.33886817],\n",
              "       [ 3.63821036,  3.63305431, 28.86960162,  5.23669814]])"
            ]
          },
          "metadata": {},
          "execution_count": 9
        }
      ]
    },
    {
      "cell_type": "code",
      "source": [
        "import pickle\n",
        "\n",
        "\n",
        "file_path = 'q_table_stochastic.pickle'\n",
        "\n",
        "\n",
        "with open(file_path, 'wb') as f:\n",
        "    pickle.dump(Q, f)\n"
      ],
      "metadata": {
        "id": "I6NO8fh2Tc99"
      },
      "execution_count": 10,
      "outputs": []
    },
    {
      "cell_type": "markdown",
      "source": [
        "#SARSA"
      ],
      "metadata": {
        "id": "doiL-ZKIUnOZ"
      }
    },
    {
      "cell_type": "code",
      "source": [
        "import gym\n",
        "import numpy as np\n",
        "import matplotlib.pyplot as plt\n",
        "\n",
        "env = DeterministicEnv()\n",
        "\n",
        "\n",
        "alpha = 0.01\n",
        "gamma = 0.99\n",
        "epsilon = 0.1\n",
        "num_episodes = 1000\n",
        "\n",
        "\n",
        "Q = np.zeros([env.observation_space.n, env.action_space.n])\n",
        "\n",
        "\n",
        "rewards_per_episode = []\n",
        "steps_per_episode = []\n",
        "\n",
        "\n",
        "for i in range(num_episodes):\n",
        " \n",
        "    state = env.reset()\n",
        "    done = False\n",
        "    total_reward = 0\n",
        "    step = 0\n",
        "\n",
        " \n",
        "    if np.random.uniform(0, 1) < epsilon:\n",
        "        action = env.action_space.sample()\n",
        "    else:\n",
        "        action = np.argmax(Q[state, :])\n",
        "\n",
        "    while not done:\n",
        "        step += 1\n",
        "\n",
        "        \n",
        "        next_state, reward, done, _ = env.step(action)\n",
        "\n",
        "  \n",
        "        if np.random.uniform(0, 1) < epsilon:\n",
        "            next_action = env.action_space.sample()\n",
        "        else:\n",
        "            next_action = np.argmax(Q[next_state, :])\n",
        "\n",
        "     \n",
        "        Q[state, action] += alpha * (reward + gamma * Q[next_state, next_action] - Q[state, action])\n",
        "\n",
        "    \n",
        "        total_reward += reward\n",
        "        state = next_state\n",
        "        action = next_action\n",
        "\n",
        "    \n",
        "    rewards_per_episode.append(total_reward)\n",
        "    steps_per_episode.append(step)\n",
        "\n",
        "\n",
        "plt.plot(rewards_per_episode)\n",
        "plt.xlabel('Episode')\n",
        "plt.ylabel('Reward')\n",
        "plt.title('SARSA: Reward per Episode')\n",
        "plt.show()"
      ],
      "metadata": {
        "colab": {
          "base_uri": "https://localhost:8080/",
          "height": 295
        },
        "id": "Y4GzFjPDUpSO",
        "outputId": "0d1d4877-d6da-4f16-e7d9-23b66c68d455"
      },
      "execution_count": 11,
      "outputs": [
        {
          "output_type": "display_data",
          "data": {
            "text/plain": [
              "<Figure size 432x288 with 1 Axes>"
            ],
            "image/png": "[encoded data removed]"
          },
          "metadata": {
            "needs_background": "light"
          }
        }
      ]
    },
    {
      "cell_type": "code",
      "source": [
        "import pickle\n",
        "\n",
        "\n",
        "file_path = 'sarsa_table_deterministic.pickle'\n",
        "\n",
        "\n",
        "with open(file_path, 'wb') as f:\n",
        "    pickle.dump(Q, f)\n"
      ],
      "metadata": {
        "id": "LPDOGRkiWf5q"
      },
      "execution_count": 12,
      "outputs": []
    },
    {
      "cell_type": "code",
      "source": [
        "import gym\n",
        "import numpy as np\n",
        "\n",
        "\n",
        "def sarsa(env, alpha=0.1, gamma=0.9, epsilon=0.1, num_episodes=1000):\n",
        "    Q = np.zeros((env.observation_space.n, env.action_space.n))\n",
        "    for i_episode in range(num_episodes):\n",
        "        state = env.reset()\n",
        "        action = epsilon_greedy(Q, state, env.action_space.n, epsilon)\n",
        "        while True:\n",
        "            next_state, reward, done, _ = env.step(action)\n",
        "            next_action = epsilon_greedy(Q, next_state, env.action_space.n, epsilon)\n",
        "            Q[state, action] += alpha * (reward + gamma * Q[next_state, next_action] - Q[state, action])\n",
        "            state = next_state\n",
        "            action = next_action\n",
        "            if done:\n",
        "                break\n",
        "    return Q\n",
        "\n",
        "\n",
        "def epsilon_greedy(Q, state, num_actions, epsilon):\n",
        "    if np.random.uniform(0, 1) < epsilon:\n",
        "        return np.random.choice(num_actions)\n",
        "    else:\n",
        "        return np.argmax(Q[state, :])\n",
        "\n",
        "\n",
        "env = StochasticEnv()\n",
        "Q = sarsa(env)\n",
        "plt.plot(rewards_per_episode)\n",
        "plt.xlabel('Episode')\n",
        "plt.ylabel('Reward')\n",
        "plt.title('SARSA: Reward per Episode')\n",
        "plt.show()"
      ],
      "metadata": {
        "id": "uLiqLmNXVH_B",
        "colab": {
          "base_uri": "https://localhost:8080/",
          "height": 295
        },
        "outputId": "7ab25276-e7ae-4dbd-bb2f-d359aeb4ae1a"
      },
      "execution_count": 13,
      "outputs": [
        {
          "output_type": "display_data",
          "data": {
            "text/plain": [
              "<Figure size 432x288 with 1 Axes>"
            ],
            "image/png": "[encoded data removed]"
          },
          "metadata": {
            "needs_background": "light"
          }
        }
      ]
    },
    {
      "cell_type": "code",
      "source": [
        "Q"
      ],
      "metadata": {
        "colab": {
          "base_uri": "https://localhost:8080/"
        },
        "id": "B75QDzwCWZj0",
        "outputId": "844cf2d6-0499-41a0-f844-263bd5279eaa"
      },
      "execution_count": 14,
      "outputs": [
        {
          "output_type": "execute_result",
          "data": {
            "text/plain": [
              "array([[2.41263405, 3.5456613 , 2.08456068, 1.7809595 ],\n",
              "       [3.34044259, 1.20220946, 1.86872868, 1.21559742],\n",
              "       [2.53450874, 3.33036762, 3.23577065, 4.48023382],\n",
              "       [2.87243994, 1.7050403 , 1.65110932, 2.00396499],\n",
              "       [3.24631596, 2.52830535, 2.24148295, 1.56864387],\n",
              "       [3.59053677, 2.0943878 , 1.73834344, 1.83506302],\n",
              "       [4.49600601, 2.9529091 , 3.39008676, 3.58741031],\n",
              "       [2.43081433, 2.70302316, 2.19011348, 4.19807783],\n",
              "       [3.06557559, 1.25008221, 1.88441172, 1.36693249],\n",
              "       [2.58745746, 3.5120754 , 2.47707658, 2.41221274],\n",
              "       [3.42227379, 1.01067973, 1.00128481, 1.89715175],\n",
              "       [4.20949388, 3.27051748, 3.32644651, 2.67169236]])"
            ]
          },
          "metadata": {},
          "execution_count": 14
        }
      ]
    },
    {
      "cell_type": "code",
      "source": [
        "import pickle\n",
        "\n",
        "\n",
        "file_path = 'sarsa_table_stochastic.pickle'\n",
        "\n",
        "\n",
        "with open(file_path, 'wb') as f:\n",
        "    pickle.dump(Q, f)\n"
      ],
      "metadata": {
        "id": "ffGiaZGBWbW1"
      },
      "execution_count": 15,
      "outputs": []
    },
    {
      "cell_type": "code",
      "source": [
        "plt.plot(rewards_per_episode, color = \"yellow\")\n",
        "plt.xlabel('Episode')\n",
        "plt.ylabel('Reward')\n",
        "plt.title('Q-learning: Reward per Episode')\n",
        "plt.show()\n",
        "\n",
        "plt.plot(rewards_per_episode, color = \"red\")\n",
        "plt.xlabel('Episode')\n",
        "plt.ylabel('Reward')\n",
        "plt.title('SARSA: Reward per Episode')\n",
        "plt.show()"
      ],
      "metadata": {
        "id": "h6MgP4tLWurE",
        "colab": {
          "base_uri": "https://localhost:8080/",
          "height": 573
        },
        "outputId": "c793e472-782e-49dc-9026-91f7cb2b5b1c"
      },
      "execution_count": 16,
      "outputs": [
        {
          "output_type": "display_data",
          "data": {
            "text/plain": [
              "<Figure size 432x288 with 1 Axes>"
            ],
            "image/png": "[encoded data removed]"
          },
          "metadata": {
            "needs_background": "light"
          }
        },
        {
          "output_type": "display_data",
          "data": {
            "text/plain": [
              "<Figure size 432x288 with 1 Axes>"
            ],
            "image/png": "[encoded data removed]"
          },
          "metadata": {
            "needs_background": "light"
          }
        }
      ]
    },
    {
      "cell_type": "markdown",
      "source": [
        "#Part 3"
      ],
      "metadata": {
        "id": "VMtgCGGUjI3i"
      }
    },
    {
      "cell_type": "code",
      "source": [
        "import gymnasium\n",
        "from gymnasium import spaces\n",
        "import math\n",
        "import matplotlib.pyplot as plt\n",
        "import numpy as np\n",
        "import pandas as pd"
      ],
      "metadata": {
        "id": "-aoiMQZ_Xyl1"
      },
      "execution_count": 17,
      "outputs": []
    },
    {
      "cell_type": "code",
      "source": [
        "# Defining the Stock Trading Environment.\n",
        "\"\"\"DON'T MAKE ANY CHANGES TO THE ENVIRONMENT.\"\"\"\n",
        "\n",
        "\n",
        "class StockTradingEnvironment(gymnasium.Env):\n",
        "    \"\"\"This class implements the Stock Trading environment.\"\"\"\n",
        "\n",
        "    def __init__(self, file_path, train=True, number_of_days_to_consider=10):\n",
        "        \"\"\"This method initializes the environment.\n",
        "\n",
        "        :param file_path: - Path of the CSV file containing the historical stock data.\n",
        "        :param train: - Boolean indicating whether the goal is to train or test the performance of the agent.\n",
        "        :param number_of_days_to_consider = Integer representing the number of days the for which the agent\n",
        "                considers the trend in stock price to make a decision.\"\"\"\n",
        "\n",
        "        self.file_path = file_path\n",
        "        self.stock_data = pd.read_csv(self.file_path)\n",
        "        self.train = train\n",
        "\n",
        "        # Splitting the data into train and test datasets.\n",
        "        self.training_stock_data = self.stock_data.iloc[:int(0.8 * len(self.stock_data))]\n",
        "        self.testing_stock_data = self.stock_data.iloc[int(0.8 * len(self.stock_data)):].reset_index()\n",
        "\n",
        "        self.observation_space = spaces.Discrete(4)\n",
        "        self.action_space = spaces.Discrete(3)\n",
        "\n",
        "        self.investment_capital = 100000  # This defines the investment capital that the agent starts with.\n",
        "        self.number_of_shares = 0  # This defines number of shares currently held by the agent.\n",
        "        self.stock_value = 0  # This defines the value of the stock currently held by the agent.\n",
        "        self.book_value = 0  # This defines the total value for which the agent bought the shares.\n",
        "        # This defines the agent's total account value.\n",
        "        self.total_account_value = self.investment_capital + self.stock_value\n",
        "        # List to store the total account value over training or evaluation.\n",
        "        self.total_account_value_list = []\n",
        "        # This defines the number of days for which the agent considers the data before taking an action.\n",
        "        self.number_of_days_to_consider = number_of_days_to_consider\n",
        "        # The maximum timesteps the agent will take before the episode ends.\n",
        "        if self.train:\n",
        "            self.max_timesteps = len(self.training_stock_data) - self.number_of_days_to_consider\n",
        "        else:\n",
        "            self.max_timesteps = len(self.testing_stock_data) - self.number_of_days_to_consider\n",
        "        # Initializing the number of steps taken to 0.\n",
        "        self.timestep = 0\n",
        "        self.reset()\n",
        "\n",
        "    def reset(self):\n",
        "        \"\"\"This method resets the environment and returns the observation.\n",
        "\n",
        "        :returns observation: - Integer in the range of 0 to 3 representing the four possible observations that the\n",
        "                                agent can receive. The observation depends upon whether the price increased on average\n",
        "                                in the number of days the agent considers, and whether the agent already has the stock\n",
        "                                or not.\n",
        "\n",
        "                 info: - info: - A dictionary that can be used to provide additional implementation information.\"\"\"\n",
        "\n",
        "        self.investment_capital = 100000  # This defines the investment capital that the agent starts with.\n",
        "        self.number_of_shares = 0  # This defines number of shares currently held by the agent.\n",
        "        self.stock_value = 0  # This defines the value of the stock currently held by the agent.\n",
        "        self.book_value = 0  # This defines the total value for which the agent bought the shares.\n",
        "        # This defines the agent's total account value.\n",
        "        self.total_account_value = self.investment_capital + self.stock_value\n",
        "        # List to store the total account value over training or evaluation.\n",
        "        self.total_account_value_list = []\n",
        "        # Initializing the number of steps taken to 0.\n",
        "        self.timestep = 0\n",
        "\n",
        "        # Getting the observation vector.\n",
        "        if self.train:\n",
        "            # If the task is to train the agent the maximum timesteps will be equal to the number of days considered\n",
        "            # subtracted from the  length of the training stock data.\n",
        "            self.max_timesteps = len(self.training_stock_data) - self.number_of_days_to_consider\n",
        "\n",
        "            # Calculating whether the price increased or decreased/remained the same on the majority of days the agent\n",
        "            # considers.\n",
        "            price_increase_list = []\n",
        "            for i in range(self.number_of_days_to_consider):\n",
        "                if self.training_stock_data['Close'][self.timestep + 1 + i] \\\n",
        "                        - self.training_stock_data['Close'][self.timestep + i] > 0:\n",
        "                    price_increase_list.append(1)\n",
        "                else:\n",
        "                    price_increase_list.append(0)\n",
        "\n",
        "            if (np.sum(price_increase_list) / self.number_of_days_to_consider) >= 0.5:\n",
        "                price_increase = True\n",
        "            else:\n",
        "                price_increase = False\n",
        "\n",
        "            stock_held = False\n",
        "\n",
        "            # Observation vector that will be passed to the agent.\n",
        "            observation = [price_increase, stock_held]\n",
        "\n",
        "        else:\n",
        "            # If the task is to evaluate the trained agent's performance the maximum timesteps will be equal to the\n",
        "            # number of days considered subtracted from the  length of the testing stock data.\n",
        "            self.max_timesteps = len(self.testing_stock_data) - self.number_of_days_to_consider\n",
        "\n",
        "            # Calculating whether the price increased or decreased/remained the same on the majority of days the agent\n",
        "            # considers.\n",
        "            price_increase_list = []\n",
        "            for i in range(self.number_of_days_to_consider):\n",
        "                if self.testing_stock_data['Close'][self.timestep + 1 + i] \\\n",
        "                        - self.testing_stock_data['Close'][self.timestep + i] > 0:\n",
        "                    price_increase_list.append(1)\n",
        "                else:\n",
        "                    price_increase_list.append(0)\n",
        "\n",
        "            if (np.sum(price_increase_list) / self.number_of_days_to_consider) >= 0.5:\n",
        "                price_increase = True\n",
        "            else:\n",
        "                price_increase = False\n",
        "\n",
        "            stock_held = False\n",
        "\n",
        "            # Observation vector.\n",
        "            observation = [price_increase, stock_held]\n",
        "\n",
        "        if np.array_equal(observation, [True, False]):\n",
        "            observation = 0\n",
        "        if np.array_equal(observation, [True, True]):\n",
        "            observation = 1\n",
        "        if np.array_equal(observation, [False, False]):\n",
        "            observation = 2\n",
        "        if np.array_equal(observation, [False, True]):\n",
        "            observation = 3\n",
        "\n",
        "        info = None\n",
        "\n",
        "        return observation, info\n",
        "\n",
        "    def step(self, action):\n",
        "        \"\"\"This method implements what happens when the agent takes the action to Buy/Sell/Hold.\n",
        "\n",
        "        :param action: - Integer in the range 0 to 2 inclusive.\n",
        "\n",
        "        :returns observation: - Integer in the range of 0 to 3 representing the four possible observations that the\n",
        "                                agent can receive. The observation depends upon whether the price increased on average\n",
        "                                in the number of days the agent considers, and whether the agent already has the stock\n",
        "                                or not.\n",
        "                 reward: - Integer/Float value that's used to measure the performance of the agent.\n",
        "                 terminated: - Boolean describing whether the episode has terminated.\n",
        "                 truncated: - Boolean describing whether a truncation condition outside the scope of the MDP is satisfied.\n",
        "                 info: - A dictionary that can be used to provide additional implementation information.\"\"\"\n",
        "\n",
        "        # We give the agent a penalty for taking actions such as buying a stock when the agent doesn't have the\n",
        "        # investment capital and selling a stock when the agent doesn't have any shares.\n",
        "        penalty = 0\n",
        "\n",
        "        if self.train:\n",
        "            if action == 0:  # Buy\n",
        "                if self.number_of_shares > 0:\n",
        "                    penalty = -10\n",
        "                # Determining the number of shares the agent can buy.\n",
        "                number_of_shares_to_buy = math.floor(self.investment_capital / self.training_stock_data[\n",
        "                    'Open'][self.timestep + self.number_of_days_to_consider])\n",
        "                # Adding to the number of shares the agent has.\n",
        "                self.number_of_shares += number_of_shares_to_buy\n",
        "\n",
        "                # Computing the stock value, book value, investment capital and reward.\n",
        "                if number_of_shares_to_buy > 0:\n",
        "                    self.stock_value +=\\\n",
        "                        self.training_stock_data['Open'][self.timestep + self.number_of_days_to_consider] \\\n",
        "                        * number_of_shares_to_buy\n",
        "                    self.book_value += \\\n",
        "                        self.training_stock_data['Open'][self.timestep + self.number_of_days_to_consider]\\\n",
        "                        * number_of_shares_to_buy\n",
        "                    self.investment_capital -= \\\n",
        "                        self.training_stock_data['Open'][self.timestep + self.number_of_days_to_consider] \\\n",
        "                        * number_of_shares_to_buy\n",
        "\n",
        "                    reward = 1 + penalty\n",
        "\n",
        "                else:\n",
        "                    # Computing the stock value and reward.\n",
        "                    self.stock_value = \\\n",
        "                        self.training_stock_data['Open'][self.timestep + self.number_of_days_to_consider] \\\n",
        "                        * self.number_of_shares\n",
        "                    reward = -10\n",
        "\n",
        "            if action == 1:  # Sell\n",
        "                # Computing the investment capital, sell value and reward.\n",
        "                self.investment_capital += \\\n",
        "                    self.training_stock_data['Open'][self.timestep + self.number_of_days_to_consider] \\\n",
        "                    * self.number_of_shares\n",
        "                sell_value = self.training_stock_data['Open'][self.timestep + self.number_of_days_to_consider] \\\n",
        "                             * self.number_of_shares\n",
        "\n",
        "                if self.book_value > 0:\n",
        "                    reward = (sell_value - self.book_value) / self.book_value * 100\n",
        "                else:\n",
        "                    reward = -10\n",
        "\n",
        "                self.number_of_shares = 0\n",
        "                self.stock_value = 0\n",
        "                self.book_value = 0\n",
        "\n",
        "            if action == 2:  # Hold\n",
        "                # Computing the stock value and reward.\n",
        "                self.stock_value = self.training_stock_data['Open'][self.timestep + self.number_of_days_to_consider] \\\n",
        "                                   * self.number_of_shares\n",
        "\n",
        "                if self.book_value > 0:\n",
        "                    reward = (self.stock_value - self.book_value) / self.book_value * 100\n",
        "                else:\n",
        "                    reward = -1\n",
        "\n",
        "        else:\n",
        "            if action == 0:  # Buy\n",
        "                if self.number_of_shares > 0:\n",
        "                    penalty = -10\n",
        "                # Determining the number of shares the agent can buy.\n",
        "                number_of_shares_to_buy = math.floor(self.investment_capital / self.testing_stock_data[\n",
        "                    'Open'][self.timestep + self.number_of_days_to_consider])\n",
        "                # Adding to the number of shares the agent has.\n",
        "                self.number_of_shares += number_of_shares_to_buy\n",
        "\n",
        "                # Computing the stock value, book value, investment capital and reward.\n",
        "                if number_of_shares_to_buy > 0:\n",
        "                    self.stock_value += \\\n",
        "                        self.testing_stock_data['Open'][self.timestep + self.number_of_days_to_consider] \\\n",
        "                        * number_of_shares_to_buy\n",
        "                    self.book_value += \\\n",
        "                        self.testing_stock_data['Open'][self.timestep + self.number_of_days_to_consider] \\\n",
        "                        * number_of_shares_to_buy\n",
        "                    self.investment_capital -= \\\n",
        "                        self.testing_stock_data['Open'][self.timestep + self.number_of_days_to_consider] \\\n",
        "                        * number_of_shares_to_buy\n",
        "\n",
        "                    reward = 1 + penalty\n",
        "\n",
        "                else:\n",
        "                    # Computing the stock value and reward.\n",
        "                    self.stock_value = self.training_stock_data['Open'][\n",
        "                                           self.timestep + self.number_of_days_to_consider] * self.number_of_shares\n",
        "                    reward = -10\n",
        "\n",
        "            if action == 1:  # Sell\n",
        "                # Computing the investment capital, sell value and reward.\n",
        "                self.investment_capital += \\\n",
        "                    self.testing_stock_data['Open'][self.timestep + self.number_of_days_to_consider] \\\n",
        "                    * self.number_of_shares\n",
        "                sell_value = self.training_stock_data['Open'][self.timestep + self.number_of_days_to_consider] \\\n",
        "                             * self.number_of_shares\n",
        "\n",
        "                if self.book_value > 0:\n",
        "                    reward = (sell_value - self.book_value) / self.book_value * 100\n",
        "                else:\n",
        "                    reward = -10\n",
        "\n",
        "                self.number_of_shares = 0\n",
        "                self.stock_value = 0\n",
        "                self.book_value = 0\n",
        "\n",
        "            if action == 2:  # Hold\n",
        "                # Computing the stock value and reward.\n",
        "                self.stock_value = self.testing_stock_data['Open'][self.timestep + self.number_of_days_to_consider] \\\n",
        "                                   * self.number_of_shares\n",
        "\n",
        "                if self.book_value > 0:\n",
        "                    reward = (self.stock_value - self.book_value) / self.book_value * 100\n",
        "                else:\n",
        "                    reward = -1\n",
        "\n",
        "        # Determining if the agent currently has shares of the stock or not.\n",
        "        if self.number_of_shares > 0:\n",
        "            stock_held = True\n",
        "        else:\n",
        "            stock_held = False\n",
        "\n",
        "        # Getting the observation vector.\n",
        "        if self.train:\n",
        "            # If the task is to train the agent the maximum timesteps will be equal to the number of days considered\n",
        "            # subtracted from the  length of the training stock data.\n",
        "            self.max_timesteps = len(self.training_stock_data) - self.number_of_days_to_consider\n",
        "\n",
        "            # Calculating whether the price increased or decreased/remained the same on the majority of days the agent\n",
        "            # considers.\n",
        "            price_increase_list = []\n",
        "            for i in range(self.number_of_days_to_consider):\n",
        "                if self.training_stock_data['Close'][self.timestep + 1 + i] \\\n",
        "                        - self.training_stock_data['Close'][self.timestep + i] > 0:\n",
        "                    price_increase_list.append(1)\n",
        "                else:\n",
        "                    price_increase_list.append(0)\n",
        "\n",
        "            if (np.sum(price_increase_list) / self.number_of_days_to_consider) >= 0.5:\n",
        "                price_increase = True\n",
        "            else:\n",
        "                price_increase = False\n",
        "\n",
        "            # Observation vector.\n",
        "            observation = [price_increase, stock_held]\n",
        "\n",
        "        else:\n",
        "            # If the task is to evaluate the trained agent's performance the maximum timesteps will be equal to the\n",
        "            # number of days considered subtracted from the  length of the testing stock data.\n",
        "            self.max_timesteps = len(self.testing_stock_data) - self.number_of_days_to_consider\n",
        "\n",
        "            # Calculating whether the price increased or decreased/remained the same on the majority of days the agent\n",
        "            # considers.\n",
        "            price_increase_list = []\n",
        "            for i in range(self.number_of_days_to_consider):\n",
        "                if self.testing_stock_data['Close'][self.timestep + 1 + i] \\\n",
        "                        - self.testing_stock_data['Close'][self.timestep + i] > 0:\n",
        "                    price_increase_list.append(1)\n",
        "                else:\n",
        "                    price_increase_list.append(0)\n",
        "\n",
        "            if (np.sum(price_increase_list) / self.number_of_days_to_consider) >= 0.5:\n",
        "                price_increase = True\n",
        "            else:\n",
        "                price_increase = False\n",
        "\n",
        "            # Observation vector.\n",
        "            observation = [price_increase, stock_held]\n",
        "\n",
        "        self.timestep += 1  # Increasing the number of steps taken by the agent by 1.\n",
        "\n",
        "        if np.array_equal(observation, [True, False]):\n",
        "            observation = 0\n",
        "        if np.array_equal(observation, [True, True]):\n",
        "            observation = 1\n",
        "        if np.array_equal(observation, [False, False]):\n",
        "            observation = 2\n",
        "        if np.array_equal(observation, [False, True]):\n",
        "            observation = 3\n",
        "\n",
        "        # Computing the total account value.\n",
        "        self.total_account_value = self.investment_capital + self.stock_value\n",
        "        # Appending the total account value of the list to plot the graph.\n",
        "        self.total_account_value_list.append(self.total_account_value)\n",
        "\n",
        "        # The episode terminates when the maximum timesteps have been reached.\n",
        "        terminated = True if (self.timestep >= self.max_timesteps) \\\n",
        "            else False\n",
        "        truncated = False\n",
        "        info = {}\n",
        "\n",
        "        return observation, reward, terminated, truncated, info\n",
        "\n",
        "    def render(self, mode='human'):\n",
        "        \"\"\"This method renders the agent's total account value over time.\n",
        "\n",
        "        :param mode: 'human' renders to the current display or terminal and returns nothing.\"\"\"\n",
        "\n",
        "        plt.figure(figsize=(15, 10))\n",
        "        plt.plot(self.total_account_value_list, color='lightseagreen', linewidth=7)\n",
        "        plt.xlabel('Days', fontsize=32)\n",
        "        plt.ylabel('Total Account Value', fontsize=32)\n",
        "        plt.title('Total Account Value over Time', fontsize=38)\n",
        "        plt.grid()\n",
        "        plt.show()"
      ],
      "metadata": {
        "id": "Ds_2g-l9it5q"
      },
      "execution_count": 18,
      "outputs": []
    },
    {
      "cell_type": "code",
      "source": [],
      "metadata": {
        "id": "0AxPjGCZ1XaL"
      },
      "execution_count": 21,
      "outputs": []
    }
  ]
}